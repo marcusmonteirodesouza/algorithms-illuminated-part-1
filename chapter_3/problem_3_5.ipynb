{
 "cells": [
  {
   "cell_type": "code",
   "execution_count": 38,
   "metadata": {},
   "outputs": [],
   "source": [
    "from typing import List\n",
    "\n",
    "\n",
    "def count_inv(arr: List[float]) -> int:\n",
    "    def sort_and_count_inv(arr: List[float]) -> (List[float], int):\n",
    "        len_arr = len(arr)\n",
    "\n",
    "        if len_arr == 0 or len_arr == 1:\n",
    "            return arr, 0\n",
    "\n",
    "        mid = len_arr // 2\n",
    "        left, left_inv = sort_and_count_inv(arr[:mid])\n",
    "        right, right_inv = sort_and_count_inv(arr[mid:])\n",
    "        split, split_inv = merge_and_count(left, right)\n",
    "        return (split, left_inv + right_inv + split_inv)\n",
    "\n",
    "    def merge_and_count(a: List[float], b: List[float]) -> (List[float], int):\n",
    "        result_arr, result_inv = [], 0\n",
    "        i, j = 0, 0\n",
    "        len_a, len_b = len(a), len(b)\n",
    "\n",
    "        while i < len_a and j < len_b:\n",
    "            if a[i] <= b[j]:\n",
    "                result_arr.append(a[i])\n",
    "                i += 1\n",
    "            else:\n",
    "                result_arr.append(b[j])\n",
    "                j += 1\n",
    "                result_inv += len_a - i # elements left in a\n",
    "\n",
    "        # copy remaining elements\n",
    "        while i < len_a:\n",
    "            result_arr.append(a[i])\n",
    "            i += 1\n",
    "        while j < len_b:\n",
    "            result_arr.append(b[j])\n",
    "            j += 1\n",
    "\n",
    "        return result_arr, result_inv\n",
    "\n",
    "    sorted_arr, result = sort_and_count_inv(arr)\n",
    "\n",
    "    return result"
   ]
  },
  {
   "cell_type": "code",
   "execution_count": 39,
   "metadata": {},
   "outputs": [
    {
     "name": "stdout",
     "output_type": "stream",
     "text": [
      "count_inv OK\n"
     ]
    }
   ],
   "source": [
    "import unittest\n",
    "from hypothesis import given\n",
    "import hypothesis.strategies as st\n",
    "\n",
    "\n",
    "class TestCountInv(unittest.TestCase):\n",
    "    @given(st.lists(st.floats(allow_nan=False)))\n",
    "    def test(self, arr):\n",
    "        self.assertEqual(count_inv(arr), self._brute_force_count_inv(arr))\n",
    "\n",
    "    def _brute_force_count_inv(self, arr: List[float]) -> int:\n",
    "        result = 0\n",
    "\n",
    "        for i in range(len(arr)):\n",
    "            for j in range(i, len(arr)):\n",
    "                if arr[i] > arr[j]:\n",
    "                    result += 1\n",
    "\n",
    "        return result\n",
    "\n",
    "\n",
    "def main():\n",
    "    test = TestCountInv()\n",
    "    test.test()\n",
    "    print(\"count_inv OK\")\n",
    "\n",
    "\n",
    "if __name__ == \"__main__\":\n",
    "    main()"
   ]
  },
  {
   "cell_type": "code",
   "execution_count": null,
   "metadata": {},
   "outputs": [],
   "source": []
  }
 ],
 "metadata": {
  "kernelspec": {
   "display_name": "Python 3",
   "language": "python",
   "name": "python3"
  },
  "language_info": {
   "codemirror_mode": {
    "name": "ipython",
    "version": 3
   },
   "file_extension": ".py",
   "mimetype": "text/x-python",
   "name": "python",
   "nbconvert_exporter": "python",
   "pygments_lexer": "ipython3",
   "version": "3.8.6"
  }
 },
 "nbformat": 4,
 "nbformat_minor": 4
}
