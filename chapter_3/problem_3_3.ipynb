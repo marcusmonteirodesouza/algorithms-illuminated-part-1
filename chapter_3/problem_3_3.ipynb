{
 "cells": [
  {
   "cell_type": "code",
   "execution_count": 25,
   "metadata": {},
   "outputs": [],
   "source": [
    "from typing import List\n",
    "\n",
    "\n",
    "def any_index_equal_to_element(arr: List[int]) -> bool:\n",
    "    len_arr = len(arr)\n",
    "    \n",
    "    if len_arr == 0:\n",
    "        return False\n",
    "    \n",
    "    if len_arr == 1:\n",
    "        return arr[0] == 0\n",
    "    \n",
    "    left_i = 0\n",
    "    right_i = len_arr - 1\n",
    "    \n",
    "    while left_i <= right_i:\n",
    "        i = (left_i + right_i) // 2\n",
    "        \n",
    "        element = arr[i]\n",
    "        \n",
    "        if element != i:\n",
    "            left_i = i + 1\n",
    "        else:\n",
    "            return True\n",
    "        \n",
    "    return False\n"
   ]
  },
  {
   "cell_type": "code",
   "execution_count": 26,
   "metadata": {},
   "outputs": [
    {
     "name": "stdout",
     "output_type": "stream",
     "text": [
      "are_index_equal_to_element OK\n"
     ]
    }
   ],
   "source": [
    "import unittest\n",
    "\n",
    "\n",
    "class TestAreIndexEqualToElement(unittest.TestCase):\n",
    "    def test_empty(self):\n",
    "        self.assertFalse(any_index_equal_to_element([]))\n",
    "        \n",
    "    def test_false(self):\n",
    "        test_cases = [\n",
    "            [1],\n",
    "            [1, 2, 3],\n",
    "            [4, 5, 6, 7]\n",
    "        ]\n",
    "        \n",
    "        for case in test_cases:\n",
    "            self.assertFalse(any_index_equal_to_element(case))\n",
    "        \n",
    "    def test_true(self):\n",
    "        test_cases = [\n",
    "            [0],\n",
    "            [0, 1],\n",
    "            [1, 1, 1],\n",
    "            [0, 0, 2, 5],\n",
    "            [1, 2, 3, 3]\n",
    "        ]\n",
    "        \n",
    "        for case in test_cases:\n",
    "            self.assertTrue(any_index_equal_to_element(case))\n",
    "\n",
    "\n",
    "def main():\n",
    "    test = TestAreIndexEqualToElement()\n",
    "    test.test_empty()\n",
    "    test.test_false()\n",
    "    test.test_true()\n",
    "    print(\"are_index_equal_to_element OK\")\n",
    "\n",
    "\n",
    "if __name__ == \"__main__\":\n",
    "    main()"
   ]
  },
  {
   "cell_type": "code",
   "execution_count": null,
   "metadata": {},
   "outputs": [],
   "source": []
  }
 ],
 "metadata": {
  "kernelspec": {
   "display_name": "Python 3",
   "language": "python",
   "name": "python3"
  },
  "language_info": {
   "codemirror_mode": {
    "name": "ipython",
    "version": 3
   },
   "file_extension": ".py",
   "mimetype": "text/x-python",
   "name": "python",
   "nbconvert_exporter": "python",
   "pygments_lexer": "ipython3",
   "version": "3.9.0"
  }
 },
 "nbformat": 4,
 "nbformat_minor": 4
}
