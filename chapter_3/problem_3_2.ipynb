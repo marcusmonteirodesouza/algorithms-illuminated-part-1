{
 "cells": [
  {
   "cell_type": "code",
   "execution_count": 1,
   "metadata": {},
   "outputs": [],
   "source": [
    "from typing import List\n",
    "\n",
    "def unimodal_arr_max(arr: List[float]) -> float:\n",
    "    len_arr = len(arr)\n",
    "    \n",
    "    if len_arr < 2:\n",
    "        return None\n",
    "    \n",
    "    if len_arr <= 3:\n",
    "        return max(arr)\n",
    "    \n",
    "    i = len_arr // 2\n",
    "    \n",
    "    element = arr[i]\n",
    "    \n",
    "    if element > arr[i - 1]:\n",
    "        return unimodal_arr_max(arr[i:])\n",
    "    \n",
    "    return unimodal_arr_max(arr[:i])\n"
   ]
  },
  {
   "cell_type": "code",
   "execution_count": 2,
   "metadata": {},
   "outputs": [
    {
     "name": "stdout",
     "output_type": "stream",
     "text": [
      "unimodal_arr_max OK\n"
     ]
    }
   ],
   "source": [
    "import unittest\n",
    "from hypothesis import given\n",
    "import hypothesis.strategies as st\n",
    "\n",
    "\n",
    "class TestUnimodalArrMax(unittest.TestCase):\n",
    "    @given(st.lists(st.floats(), max_size=1))\n",
    "    def test_less_than_3_elements(self, arr):\n",
    "        self.assertIs(unimodal_arr_max(arr), None) \n",
    "        \n",
    "    def test_3_or_more_elements(self):\n",
    "        test_cases = [\n",
    "            [0, 1, 0],\n",
    "            [0, 1, 2, 1, 0],\n",
    "            [2, 4, 6, 7, 8, 10, 6],\n",
    "            [4, 11, 5, 4, 3, 2, 1, 0],\n",
    "            [10, 9, 8, 7, 6, 5, 4, 3, 2, 1],\n",
    "            [1, 2, 3, 4, 5, 6, 7, 8, 9, 10]\n",
    "        ]\n",
    "        \n",
    "        for case in test_cases:\n",
    "            self.assertEqual(unimodal_arr_max(case), sorted(case, reverse=True)[0])\n",
    "\n",
    "\n",
    "def main():\n",
    "    test = TestUnimodalArrMax()\n",
    "    test.test_less_than_3_elements()\n",
    "    test.test_3_or_more_elements()\n",
    "    print(\"unimodal_arr_max OK\")\n",
    "\n",
    "\n",
    "if __name__ == \"__main__\":\n",
    "    main()"
   ]
  },
  {
   "cell_type": "code",
   "execution_count": null,
   "metadata": {},
   "outputs": [],
   "source": []
  }
 ],
 "metadata": {
  "kernelspec": {
   "display_name": "Python 3",
   "language": "python",
   "name": "python3"
  },
  "language_info": {
   "codemirror_mode": {
    "name": "ipython",
    "version": 3
   },
   "file_extension": ".py",
   "mimetype": "text/x-python",
   "name": "python",
   "nbconvert_exporter": "python",
   "pygments_lexer": "ipython3",
   "version": "3.9.0"
  }
 },
 "nbformat": 4,
 "nbformat_minor": 4
}
