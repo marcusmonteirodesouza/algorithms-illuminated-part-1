{
 "cells": [
  {
   "cell_type": "code",
   "execution_count": 31,
   "metadata": {},
   "outputs": [],
   "source": [
    "def karatsuba(x: int, y: int) -> int:\n",
    "    if len(str(x)) == 1 or len(str(y)) == 1:\n",
    "        return x * y\n",
    "    else:\n",
    "        m = max(len(str(x)), len(str(y)))\n",
    "        m2 = m // 2\n",
    "\n",
    "        a = x // 10 ** (m2)\n",
    "        b = x % 10 ** (m2)\n",
    "        c = y // 10 ** (m2)\n",
    "        d = y % 10 ** (m2)\n",
    "\n",
    "        z0 = karatsuba(b, d)\n",
    "        z1 = karatsuba((a + b), (c + d))\n",
    "        z2 = karatsuba(a, c)\n",
    "\n",
    "        return (z2 * 10 ** (2 * m2)) + ((z1 - z2 - z0) * 10 ** (m2)) + (z0)"
   ]
  },
  {
   "cell_type": "code",
   "execution_count": 32,
   "metadata": {},
   "outputs": [
    {
     "name": "stdout",
     "output_type": "stream",
     "text": [
      "test_karatsuba OK\n"
     ]
    }
   ],
   "source": [
    "import unittest\n",
    "from hypothesis import given\n",
    "import hypothesis.strategies as st\n",
    "\n",
    "\n",
    "class TestKaratsuba(unittest.TestCase):\n",
    "    @given(st.integers(min_value=0), st.integers(min_value=0))\n",
    "    def test_karatsuba(self, x, y):\n",
    "        self.assertEqual(karatsuba(x, y), x * y)\n",
    "\n",
    "\n",
    "def main():\n",
    "    test = TestKaratsuba()\n",
    "    test.test_karatsuba()\n",
    "    print(\"test_karatsuba OK\")\n",
    "\n",
    "\n",
    "if __name__ == \"__main__\":\n",
    "    main()"
   ]
  },
  {
   "cell_type": "code",
   "execution_count": null,
   "metadata": {},
   "outputs": [],
   "source": []
  }
 ],
 "metadata": {
  "kernelspec": {
   "display_name": "Python 3",
   "language": "python",
   "name": "python3"
  },
  "language_info": {
   "codemirror_mode": {
    "name": "ipython",
    "version": 3
   },
   "file_extension": ".py",
   "mimetype": "text/x-python",
   "name": "python",
   "nbconvert_exporter": "python",
   "pygments_lexer": "ipython3",
   "version": "3.9.0"
  }
 },
 "nbformat": 4,
 "nbformat_minor": 4
}
