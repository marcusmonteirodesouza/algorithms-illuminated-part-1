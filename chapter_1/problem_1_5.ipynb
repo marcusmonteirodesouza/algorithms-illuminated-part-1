{
 "cells": [
  {
   "cell_type": "code",
   "execution_count": 33,
   "metadata": {},
   "outputs": [],
   "source": [
    "from typing import List\n",
    "\n",
    "\n",
    "def second_largest(arr: List[float]) -> float:\n",
    "    if len(arr) < 2:\n",
    "        return None\n",
    "    \n",
    "    largest = float('-inf')\n",
    "    second_largest = float('-inf')\n",
    "    \n",
    "    for n in arr:\n",
    "        if n > largest:\n",
    "            second_largest = largest\n",
    "            largest = n\n",
    "        elif n > second_largest:\n",
    "            second_largest = n\n",
    "                \n",
    "    return second_largest\n",
    "\n",
    "    "
   ]
  },
  {
   "cell_type": "code",
   "execution_count": 35,
   "metadata": {},
   "outputs": [
    {
     "name": "stdout",
     "output_type": "stream",
     "text": [
      "second_largest OK\n"
     ]
    }
   ],
   "source": [
    "import unittest\n",
    "import random\n",
    "from timeit import timeit\n",
    "from hypothesis import given\n",
    "import hypothesis.strategies as st\n",
    "\n",
    "\n",
    "class TestSecondLargest(unittest.TestCase):\n",
    "    @given(st.lists(st.floats(), max_size=1))\n",
    "    def test_less_than_two_elements(self, arr):\n",
    "        self.assertIs(second_largest(arr), None)\n",
    "\n",
    "    @given(st.lists(st.floats(allow_nan=False), min_size=2))\n",
    "    def test_two_or_more_elements(self, arr):\n",
    "        self.assertEqual(second_largest(arr), sorted(arr, reverse=True)[1])\n",
    "\n",
    "\n",
    "def main():\n",
    "    test = TestSecondLargest()\n",
    "    test.test_less_than_two_elements()\n",
    "    test.test_two_or_more_elements()\n",
    "    print(\"second_largest OK\")\n",
    "\n",
    "\n",
    "if __name__ == \"__main__\":\n",
    "    main()"
   ]
  },
  {
   "cell_type": "code",
   "execution_count": null,
   "metadata": {},
   "outputs": [],
   "source": []
  }
 ],
 "metadata": {
  "kernelspec": {
   "display_name": "Python 3",
   "language": "python",
   "name": "python3"
  },
  "language_info": {
   "codemirror_mode": {
    "name": "ipython",
    "version": 3
   },
   "file_extension": ".py",
   "mimetype": "text/x-python",
   "name": "python",
   "nbconvert_exporter": "python",
   "pygments_lexer": "ipython3",
   "version": "3.8.6"
  }
 },
 "nbformat": 4,
 "nbformat_minor": 4
}
