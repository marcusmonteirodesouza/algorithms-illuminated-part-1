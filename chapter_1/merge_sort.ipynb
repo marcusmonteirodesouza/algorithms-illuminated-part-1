{
 "cells": [
  {
   "cell_type": "code",
   "execution_count": 7,
   "metadata": {},
   "outputs": [],
   "source": [
    "from typing import List\n",
    "\n",
    "\n",
    "def _merge(a: List[int], b: List[int]):\n",
    "    i = 0\n",
    "    j = 0\n",
    "    a_len = len(a)\n",
    "    b_len = len(b)\n",
    "    result = []\n",
    "\n",
    "    while i < a_len and j < b_len:\n",
    "        if a[i] < b[j]:\n",
    "            result.append(a[i])\n",
    "            i += 1\n",
    "        else:\n",
    "            result.append(b[j])\n",
    "            j += 1\n",
    "\n",
    "    # copy remaining elements\n",
    "    while i < a_len:\n",
    "        result.append(a[i])\n",
    "        i += 1\n",
    "    while j < b_len:\n",
    "        result.append(b[j])\n",
    "        j += 1\n",
    "\n",
    "    return result\n",
    "\n",
    "\n",
    "def merge_sort(arr: List[int]) -> List[int]:\n",
    "    arr_len = len(arr)\n",
    "\n",
    "    if arr_len < 2:\n",
    "        return arr\n",
    "\n",
    "    middle = arr_len // 2\n",
    "\n",
    "    a, b = merge_sort(arr[middle:]), merge_sort(arr[:middle])\n",
    "\n",
    "    return _merge(a, b)"
   ]
  },
  {
   "cell_type": "code",
   "execution_count": 9,
   "metadata": {},
   "outputs": [
    {
     "name": "stdout",
     "output_type": "stream",
     "text": [
      "merge_sort OK\n"
     ]
    }
   ],
   "source": [
    "import unittest\n",
    "from hypothesis import given\n",
    "import hypothesis.strategies as st\n",
    "\n",
    "\n",
    "class TestMergeSort(unittest.TestCase):\n",
    "    @given(st.lists(st.integers()))\n",
    "    def test_merge_sort(self, arr):\n",
    "        self.assertListEqual(merge_sort(arr), sorted(arr))\n",
    "\n",
    "\n",
    "def main():\n",
    "    test = TestMergeSort()\n",
    "    test.test_merge_sort()\n",
    "    print(\"merge_sort OK\")\n",
    "\n",
    "\n",
    "if __name__ == \"__main__\":\n",
    "    main()"
   ]
  },
  {
   "cell_type": "code",
   "execution_count": null,
   "metadata": {},
   "outputs": [],
   "source": []
  }
 ],
 "metadata": {
  "kernelspec": {
   "display_name": "Python 3",
   "language": "python",
   "name": "python3"
  },
  "language_info": {
   "codemirror_mode": {
    "name": "ipython",
    "version": 3
   },
   "file_extension": ".py",
   "mimetype": "text/x-python",
   "name": "python",
   "nbconvert_exporter": "python",
   "pygments_lexer": "ipython3",
   "version": "3.8.6"
  }
 },
 "nbformat": 4,
 "nbformat_minor": 4
}
